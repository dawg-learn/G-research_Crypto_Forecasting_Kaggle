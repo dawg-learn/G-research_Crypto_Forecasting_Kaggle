{
 "cells": [
  {
   "cell_type": "code",
   "execution_count": null,
   "id": "115f9aa7",
   "metadata": {
    "_cell_guid": "6b51587b-5ebf-4707-8bae-3e3df047f796",
    "_uuid": "7e1f0b15-7d86-4e97-99d6-d91b5618471c",
    "collapsed": false,
    "jupyter": {
     "outputs_hidden": false
    },
    "papermill": {
     "duration": 0.00206,
     "end_time": "2022-07-11T05:28:52.583296",
     "exception": false,
     "start_time": "2022-07-11T05:28:52.581236",
     "status": "completed"
    },
    "tags": []
   },
   "outputs": [],
   "source": []
  }
 ],
 "metadata": {
  "kernelspec": {
   "display_name": "Python 3",
   "language": "python",
   "name": "python3"
  },
  "language_info": {
   "codemirror_mode": {
    "name": "ipython",
    "version": 3
   },
   "file_extension": ".py",
   "mimetype": "text/x-python",
   "name": "python",
   "nbconvert_exporter": "python",
   "pygments_lexer": "ipython3",
   "version": "3.7.12"
  },
  "papermill": {
   "default_parameters": {},
   "duration": 9.637939,
   "end_time": "2022-07-11T05:28:53.208271",
   "environment_variables": {},
   "exception": null,
   "input_path": "__notebook__.ipynb",
   "output_path": "__notebook__.ipynb",
   "parameters": {},
   "start_time": "2022-07-11T05:28:43.570332",
   "version": "2.3.4"
  }
 },
 "nbformat": 4,
 "nbformat_minor": 5
}
